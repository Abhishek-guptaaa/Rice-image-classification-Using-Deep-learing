{
  "nbformat": 4,
  "nbformat_minor": 0,
  "metadata": {
    "colab": {
      "provenance": [],
      "authorship_tag": "ABX9TyMQJu89cmDzBANzBf6siyRg"
    },
    "kernelspec": {
      "name": "python3",
      "display_name": "Python 3"
    },
    "language_info": {
      "name": "python"
    }
  },
  "cells": [
    {
      "cell_type": "markdown",
      "source": [
        "# Rice Variety Classification and Quality Evaluation Using Image Analysis\n",
        "\n",
        "```\n",
        "1.1 | Rice Variety Classification and Quality Evaluation Using Image Analysis\n",
        "```\n",
        "\n"
      ],
      "metadata": {
        "id": "ucslZg-11qVa"
      }
    },
    {
      "cell_type": "markdown",
      "source": [
        "Rice, as one of the most prevalent grain crops globally, exhibits significant genetic diversity, resulting in various rice varieties. These varieties exhibit variations in essential characteristics such as texture, shape, and color. By harnessing these differentiating features, it becomes possible to accurately classify and assess the quality of rice seeds.\n",
        "\n",
        "This research initiative aims to develop a robust image analysis system capable of automatically identifying and categorizing different rice varieties based on their visual attributes. By employing advanced machine learning techniques and deep neural networks, the project endeavors to create a model that can accurately classify rice samples into the five target varieties.\n",
        "\n",
        "Additionally, the developed image analysis model can contribute to the broader field of computer vision and pattern recognition. The insights gained from this research can be applied to other grain crops and agricultural products, leading to advancements in automated classification and quality evaluation across various agricultural domains.\n",
        "\n",
        "In summary, the Rice Variety Classification and Quality Evaluation project utilizes a comprehensive dataset of 75,000 rice images to develop a state-of-the-art image analysis system. By accurately classifying and evaluating the quality attributes of five distinct rice varieties, this research aims to enhance rice production processes, support seed selection, and drive advancements in computer vision for agricultural applications. For more information about the dataset use the following Kaggle link:\n",
        "https://github.com/Abhishek-guptaaa/My_dataset1/raw/refs/heads/main/Rice_Image_Dataset.zip"
      ],
      "metadata": {
        "id": "CoYSq9w118x3"
      }
    },
    {
      "cell_type": "code",
      "execution_count": 1,
      "metadata": {
        "id": "XE2nF7LOzf4S"
      },
      "outputs": [],
      "source": [
        "import os\n",
        "import pandas as pd\n",
        "import numpy as np\n",
        "import seaborn as sns\n",
        "import matplotlib.pyplot as plt\n",
        "\n",
        "from sklearn.model_selection import train_test_split\n",
        "from sklearn.preprocessing import LabelEncoder\n",
        "from tensorflow.keras.models import Sequential\n",
        "from tensorflow.keras.layers import Conv2D, MaxPooling2D, Dense, Flatten\n",
        "import warnings"
      ]
    },
    {
      "cell_type": "code",
      "source": [
        "! wget https://github.com/Abhishek-guptaaa/My_dataset1/raw/refs/heads/main/Rice_Image_Dataset.zip"
      ],
      "metadata": {
        "colab": {
          "base_uri": "https://localhost:8080/"
        },
        "id": "WLrlBojS0ItY",
        "outputId": "82b57484-a176-4078-a5d3-2dd7dff0f999"
      },
      "execution_count": 2,
      "outputs": [
        {
          "output_type": "stream",
          "name": "stdout",
          "text": [
            "--2024-10-24 09:17:03--  https://github.com/Abhishek-guptaaa/My_dataset1/raw/refs/heads/main/Rice_Image_Dataset.zip\n",
            "Resolving github.com (github.com)... 140.82.112.4\n",
            "Connecting to github.com (github.com)|140.82.112.4|:443... connected.\n",
            "HTTP request sent, awaiting response... 302 Found\n",
            "Location: https://media.githubusercontent.com/media/Abhishek-guptaaa/My_dataset1/refs/heads/main/Rice_Image_Dataset.zip [following]\n",
            "--2024-10-24 09:17:03--  https://media.githubusercontent.com/media/Abhishek-guptaaa/My_dataset1/refs/heads/main/Rice_Image_Dataset.zip\n",
            "Resolving media.githubusercontent.com (media.githubusercontent.com)... 185.199.108.133, 185.199.109.133, 185.199.110.133, ...\n",
            "Connecting to media.githubusercontent.com (media.githubusercontent.com)|185.199.108.133|:443... connected.\n",
            "HTTP request sent, awaiting response... 200 OK\n",
            "Length: 229378744 (219M) [application/zip]\n",
            "Saving to: ‘Rice_Image_Dataset.zip’\n",
            "\n",
            "Rice_Image_Dataset. 100%[===================>] 218.75M   141MB/s    in 1.5s    \n",
            "\n",
            "2024-10-24 09:17:07 (141 MB/s) - ‘Rice_Image_Dataset.zip’ saved [229378744/229378744]\n",
            "\n"
          ]
        }
      ]
    },
    {
      "cell_type": "code",
      "source": [
        "import zipfile\n",
        "\n",
        "# Path to your zip file\n",
        "zip_file_path = '/content/Rice_Image_Dataset.zip'\n",
        "\n",
        "# Open and extract the zip file\n",
        "with zipfile.ZipFile(zip_file_path, 'r') as zip_ref:\n",
        "    zip_ref.extractall()  # Extract all files to the current directory\n",
        "\n",
        "print(\"Files extracted\")\n",
        "\n"
      ],
      "metadata": {
        "colab": {
          "base_uri": "https://localhost:8080/"
        },
        "id": "f4KZ4bDu0Kxb",
        "outputId": "b03e365b-a4ed-4bb9-d80d-870f11e4b2be"
      },
      "execution_count": 4,
      "outputs": [
        {
          "output_type": "stream",
          "name": "stdout",
          "text": [
            "Files extracted\n"
          ]
        }
      ]
    },
    {
      "cell_type": "code",
      "source": [],
      "metadata": {
        "id": "BF0EZdaR04d5"
      },
      "execution_count": null,
      "outputs": []
    }
  ]
}