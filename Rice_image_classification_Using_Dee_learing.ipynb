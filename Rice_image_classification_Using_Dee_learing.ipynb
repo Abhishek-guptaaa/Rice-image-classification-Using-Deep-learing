{
  "nbformat": 4,
  "nbformat_minor": 0,
  "metadata": {
    "colab": {
      "provenance": [],
      "authorship_tag": "ABX9TyOL4LwBB4JwE+a1FaVF9xIZ",
      "include_colab_link": true
    },
    "kernelspec": {
      "name": "python3",
      "display_name": "Python 3"
    },
    "language_info": {
      "name": "python"
    }
  },
  "cells": [
    {
      "cell_type": "markdown",
      "metadata": {
        "id": "view-in-github",
        "colab_type": "text"
      },
      "source": [
        "<a href=\"https://colab.research.google.com/github/Abhishek-guptaaa/Rice-image-classification-Using-Deep-learing/blob/main/Rice_image_classification_Using_Dee_learing.ipynb\" target=\"_parent\"><img src=\"https://colab.research.google.com/assets/colab-badge.svg\" alt=\"Open In Colab\"/></a>"
      ]
    },
    {
      "cell_type": "code",
      "execution_count": 1,
      "metadata": {
        "id": "XE2nF7LOzf4S"
      },
      "outputs": [],
      "source": [
        "import os\n",
        "import pandas as pd\n",
        "import numpy as np\n",
        "import seaborn as sns\n",
        "import matplotlib.pyplot as plt\n",
        "\n",
        "from sklearn.model_selection import train_test_split\n",
        "from sklearn.preprocessing import LabelEncoder\n",
        "from tensorflow.keras.models import Sequential\n",
        "from tensorflow.keras.layers import Conv2D, MaxPooling2D, Dense, Flatten\n",
        "import warnings"
      ]
    },
    {
      "cell_type": "code",
      "source": [
        "! wget https://github.com/Abhishek-guptaaa/My_dataset1/raw/refs/heads/main/Rice_Image_Dataset.zip"
      ],
      "metadata": {
        "colab": {
          "base_uri": "https://localhost:8080/"
        },
        "id": "WLrlBojS0ItY",
        "outputId": "82b57484-a176-4078-a5d3-2dd7dff0f999"
      },
      "execution_count": 2,
      "outputs": [
        {
          "output_type": "stream",
          "name": "stdout",
          "text": [
            "--2024-10-24 09:17:03--  https://github.com/Abhishek-guptaaa/My_dataset1/raw/refs/heads/main/Rice_Image_Dataset.zip\n",
            "Resolving github.com (github.com)... 140.82.112.4\n",
            "Connecting to github.com (github.com)|140.82.112.4|:443... connected.\n",
            "HTTP request sent, awaiting response... 302 Found\n",
            "Location: https://media.githubusercontent.com/media/Abhishek-guptaaa/My_dataset1/refs/heads/main/Rice_Image_Dataset.zip [following]\n",
            "--2024-10-24 09:17:03--  https://media.githubusercontent.com/media/Abhishek-guptaaa/My_dataset1/refs/heads/main/Rice_Image_Dataset.zip\n",
            "Resolving media.githubusercontent.com (media.githubusercontent.com)... 185.199.108.133, 185.199.109.133, 185.199.110.133, ...\n",
            "Connecting to media.githubusercontent.com (media.githubusercontent.com)|185.199.108.133|:443... connected.\n",
            "HTTP request sent, awaiting response... 200 OK\n",
            "Length: 229378744 (219M) [application/zip]\n",
            "Saving to: ‘Rice_Image_Dataset.zip’\n",
            "\n",
            "Rice_Image_Dataset. 100%[===================>] 218.75M   141MB/s    in 1.5s    \n",
            "\n",
            "2024-10-24 09:17:07 (141 MB/s) - ‘Rice_Image_Dataset.zip’ saved [229378744/229378744]\n",
            "\n"
          ]
        }
      ]
    },
    {
      "cell_type": "code",
      "source": [
        "import zipfile\n",
        "\n",
        "# Path to your zip file\n",
        "zip_file_path = '/content/Rice_Image_Dataset.zip'\n",
        "\n",
        "# Open and extract the zip file\n",
        "with zipfile.ZipFile(zip_file_path, 'r') as zip_ref:\n",
        "    zip_ref.extractall()  # Extract all files to the current directory\n",
        "\n",
        "print(\"Files extracted\")\n",
        "\n"
      ],
      "metadata": {
        "colab": {
          "base_uri": "https://localhost:8080/"
        },
        "id": "f4KZ4bDu0Kxb",
        "outputId": "b03e365b-a4ed-4bb9-d80d-870f11e4b2be"
      },
      "execution_count": 4,
      "outputs": [
        {
          "output_type": "stream",
          "name": "stdout",
          "text": [
            "Files extracted\n"
          ]
        }
      ]
    },
    {
      "cell_type": "code",
      "source": [],
      "metadata": {
        "id": "BF0EZdaR04d5"
      },
      "execution_count": null,
      "outputs": []
    }
  ]
}